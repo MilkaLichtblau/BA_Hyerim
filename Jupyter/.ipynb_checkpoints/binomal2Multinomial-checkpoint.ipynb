{
 "cells": [
  {
   "cell_type": "code",
   "execution_count": 70,
   "metadata": {
    "scrolled": true
   },
   "outputs": [
    {
     "name": "stdout",
     "output_type": "stream",
     "text": [
      "k =  1  icdf: 0.0\n",
      "k =  2  icdf: 0.0\n",
      "k =  3  icdf: 0.0\n",
      "k =  4  icdf: 0.0\n",
      "k =  5  icdf: 0.0\n",
      "k =  6  icdf: 0.0\n",
      "k =  7  icdf: 0.0\n",
      "k =  8  icdf: 0.0\n",
      "k =  9  icdf: 0.0\n",
      "k =  10  icdf: 0.0\n",
      "k =  11  icdf: 0.0\n",
      "k =  12  icdf: 0.0\n",
      "k =  13  icdf: 0.0\n",
      "k =  14  icdf: 0.0\n",
      "k =  15  icdf: 0.0\n",
      "k =  16  icdf: 0.0\n",
      "k =  17  icdf: 0.0\n",
      "k =  18  icdf: 0.0\n",
      "k =  19  icdf: 0.0\n",
      "k =  20  icdf: 0.0\n",
      "k =  21  icdf: 0.0\n",
      "k =  22  icdf: 1.0\n",
      "k =  23  icdf: 1.0\n",
      "k =  24  icdf: 1.0\n",
      "k =  25  icdf: 1.0\n"
     ]
    }
   ],
   "source": [
    "from scipy.stats import binom\n",
    "import numpy\n",
    "import pandas as pd\n",
    "\n",
    "alpha = 0.1\n",
    "p = 0.1\n",
    "\n",
    "for i in range(25):\n",
    "    print \"k = \", i+1,\" icdf:\",binom.ppf(alpha, i+1, p)"
   ]
  },
  {
   "cell_type": "code",
   "execution_count": 73,
   "metadata": {},
   "outputs": [],
   "source": [
    "def get_minimum_targets_binom(p, alpha, k):\n",
    "    minimum_targets = [];\n",
    "    p_np = p[1:]\n",
    "    \n",
    "    for i in range(k):\n",
    "        mt = []\n",
    "        for p_j in p_np:\n",
    "            mt.append(binom.ppf(alpha, i+1, p_j))\n",
    "        minimum_targets.append(mt)   \n",
    "    df = pd.DataFrame(data=(numpy.array(minimum_targets)).astype(int))\n",
    "    df.columns = p_np\n",
    "    df.index = numpy.array(range(k))+1\n",
    "    df.to_html(\"binomial2Multinomial_\"+str(p).html\")    \n",
    "    return minimum_targets "
   ]
  },
  {
   "cell_type": "code",
   "execution_count": 74,
   "metadata": {},
   "outputs": [
    {
     "data": {
      "text/plain": [
       "[[0.0, 0.0, 0.0],\n",
       " [0.0, 0.0, 0.0],\n",
       " [0.0, 0.0, 0.0],\n",
       " [0.0, 0.0, 0.0],\n",
       " [0.0, 0.0, 0.0],\n",
       " [0.0, 0.0, 0.0],\n",
       " [1.0, 0.0, 0.0],\n",
       " [1.0, 0.0, 0.0],\n",
       " [1.0, 0.0, 0.0],\n",
       " [1.0, 0.0, 0.0],\n",
       " [1.0, 1.0, 0.0],\n",
       " [2.0, 1.0, 0.0],\n",
       " [2.0, 1.0, 0.0],\n",
       " [2.0, 1.0, 0.0],\n",
       " [2.0, 1.0, 0.0],\n",
       " [3.0, 1.0, 0.0],\n",
       " [3.0, 1.0, 0.0],\n",
       " [3.0, 2.0, 0.0],\n",
       " [3.0, 2.0, 0.0],\n",
       " [3.0, 2.0, 0.0],\n",
       " [4.0, 2.0, 0.0],\n",
       " [4.0, 2.0, 1.0],\n",
       " [4.0, 2.0, 1.0],\n",
       " [4.0, 2.0, 1.0],\n",
       " [5.0, 3.0, 1.0],\n",
       " [5.0, 3.0, 1.0],\n",
       " [5.0, 3.0, 1.0],\n",
       " [5.0, 3.0, 1.0],\n",
       " [6.0, 3.0, 1.0],\n",
       " [6.0, 3.0, 1.0],\n",
       " [6.0, 3.0, 1.0],\n",
       " [6.0, 4.0, 1.0],\n",
       " [7.0, 4.0, 1.0],\n",
       " [7.0, 4.0, 1.0],\n",
       " [7.0, 4.0, 1.0],\n",
       " [7.0, 4.0, 1.0],\n",
       " [8.0, 4.0, 1.0],\n",
       " [8.0, 5.0, 2.0],\n",
       " [8.0, 5.0, 2.0],\n",
       " [8.0, 5.0, 2.0],\n",
       " [9.0, 5.0, 2.0],\n",
       " [9.0, 5.0, 2.0],\n",
       " [9.0, 5.0, 2.0],\n",
       " [9.0, 5.0, 2.0],\n",
       " [10.0, 6.0, 2.0],\n",
       " [10.0, 6.0, 2.0],\n",
       " [10.0, 6.0, 2.0],\n",
       " [10.0, 6.0, 2.0],\n",
       " [11.0, 6.0, 2.0],\n",
       " [11.0, 6.0, 2.0],\n",
       " [11.0, 7.0, 2.0],\n",
       " [11.0, 7.0, 3.0],\n",
       " [12.0, 7.0, 3.0],\n",
       " [12.0, 7.0, 3.0],\n",
       " [12.0, 7.0, 3.0],\n",
       " [12.0, 7.0, 3.0],\n",
       " [13.0, 8.0, 3.0],\n",
       " [13.0, 8.0, 3.0],\n",
       " [13.0, 8.0, 3.0],\n",
       " [14.0, 8.0, 3.0],\n",
       " [14.0, 8.0, 3.0],\n",
       " [14.0, 8.0, 3.0],\n",
       " [14.0, 9.0, 3.0],\n",
       " [15.0, 9.0, 3.0],\n",
       " [15.0, 9.0, 4.0],\n",
       " [15.0, 9.0, 4.0],\n",
       " [15.0, 9.0, 4.0],\n",
       " [16.0, 9.0, 4.0],\n",
       " [16.0, 10.0, 4.0],\n",
       " [16.0, 10.0, 4.0],\n",
       " [16.0, 10.0, 4.0],\n",
       " [17.0, 10.0, 4.0],\n",
       " [17.0, 10.0, 4.0],\n",
       " [17.0, 10.0, 4.0],\n",
       " [17.0, 11.0, 4.0],\n",
       " [18.0, 11.0, 4.0],\n",
       " [18.0, 11.0, 4.0],\n",
       " [18.0, 11.0, 5.0],\n",
       " [19.0, 11.0, 5.0],\n",
       " [19.0, 11.0, 5.0],\n",
       " [19.0, 12.0, 5.0],\n",
       " [19.0, 12.0, 5.0],\n",
       " [20.0, 12.0, 5.0],\n",
       " [20.0, 12.0, 5.0],\n",
       " [20.0, 12.0, 5.0],\n",
       " [20.0, 13.0, 5.0],\n",
       " [21.0, 13.0, 5.0],\n",
       " [21.0, 13.0, 5.0],\n",
       " [21.0, 13.0, 5.0],\n",
       " [21.0, 13.0, 5.0],\n",
       " [22.0, 13.0, 6.0],\n",
       " [22.0, 14.0, 6.0],\n",
       " [22.0, 14.0, 6.0],\n",
       " [23.0, 14.0, 6.0],\n",
       " [23.0, 14.0, 6.0],\n",
       " [23.0, 14.0, 6.0],\n",
       " [23.0, 14.0, 6.0],\n",
       " [24.0, 15.0, 6.0],\n",
       " [24.0, 15.0, 6.0],\n",
       " [24.0, 15.0, 6.0]]"
      ]
     },
     "execution_count": 74,
     "metadata": {},
     "output_type": "execute_result"
    }
   ],
   "source": [
    "p = [0.4, 0.3, 0.2, 0.1]\n",
    "alpha = 0.1\n",
    "k = 100\n",
    "\n",
    "get_minimum_targets_binom(p,alpha, k)"
   ]
  },
  {
   "cell_type": "code",
   "execution_count": 107,
   "metadata": {},
   "outputs": [
    {
     "data": {
      "text/plain": [
       "0.9998265426600963"
      ]
     },
     "execution_count": 107,
     "metadata": {},
     "output_type": "execute_result"
    }
   ],
   "source": [
    "binom.cdf(7, 18, 0.1)"
   ]
  },
  {
   "cell_type": "code",
   "execution_count": 110,
   "metadata": {},
   "outputs": [
    {
     "data": {
      "text/plain": [
       "0.03278129712463871"
      ]
     },
     "execution_count": 110,
     "metadata": {},
     "output_type": "execute_result"
    }
   ],
   "source": [
    "binom.cdf(3, 18, 0.4)"
   ]
  }
 ],
 "metadata": {
  "kernelspec": {
   "display_name": "Python 2",
   "language": "python",
   "name": "python2"
  },
  "language_info": {
   "codemirror_mode": {
    "name": "ipython",
    "version": 2
   },
   "file_extension": ".py",
   "mimetype": "text/x-python",
   "name": "python",
   "nbconvert_exporter": "python",
   "pygments_lexer": "ipython2",
   "version": "2.7.12"
  }
 },
 "nbformat": 4,
 "nbformat_minor": 2
}

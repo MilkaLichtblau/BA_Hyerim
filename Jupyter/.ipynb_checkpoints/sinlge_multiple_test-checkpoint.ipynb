{
 "cells": [
  {
   "cell_type": "code",
   "execution_count": 46,
   "metadata": {},
   "outputs": [],
   "source": [
    "import random\n",
    "import numpy as np\n",
    "from scipy.stats import binom\n",
    "import pandas as pd\n",
    "from scipy.stats import poisson\n",
    "import math\n",
    "import copy\n",
    "import os\n",
    "import errno\n",
    "\n",
    "def multinomCDF_log(G, k, p, tau_p):\n",
    "    s = float(k);\n",
    "    log_cdf = -poisson.logpmf(k,s);\n",
    "    gamma1 = 0.0;\n",
    "    gamma2 = 0.0;\n",
    "    sum_s2 = 0.0;\n",
    "    sum_mu = 0.0;\n",
    "    \n",
    "    # P(W=k)\n",
    "    for i in range(0,G):\n",
    "        sp = s*p[i];\n",
    "        \n",
    "        pcdf = poisson.cdf(tau_p[i],sp);\n",
    "        log_cdf += np.log(pcdf);\n",
    "        \n",
    "        mu = sp*(1-poisson.pmf(tau_p[i],sp)/pcdf);\n",
    "        s2 = mu-(tau_p[i]-mu)*(sp-mu);\n",
    "        \n",
    "        mr = tau_p[i];\n",
    "        mf2 = sp*mu-mr*(sp-mu);\n",
    "        \n",
    "        mr *= tau_p[i]-1;\n",
    "        mf3 = sp*mf2-mr*(sp-mu);\n",
    "        \n",
    "        mr *= tau_p[i]-2;\n",
    "        mf4 = sp*mf3-mr*(sp-mu);\n",
    "        \n",
    "#         mu2 = mf2+mu*(1-mu);\n",
    "        mu3 = mf3+mf2*(3-3*mu)+mu*(1+mu*(-3+2*mu));\n",
    "        mu4 = mf4+mf3*(6-4*mu)+mf2*(7+mu*(-12+6*mu))+mu*(1+mu*(-4+mu*(6-3*mu)));\n",
    "        \n",
    "        gamma1 += mu3;\n",
    "        gamma2 += mu4-3*s2*s2;\n",
    "        sum_mu += mu;\n",
    "        sum_s2 += s2; \n",
    "    sp = np.sqrt(sum_s2);\n",
    "    gamma1 /= sum_s2*sp;\n",
    "    gamma2 /= sum_s2*sum_s2;\n",
    "    \n",
    "    x = (k-sum_mu)/sp;\n",
    "    x2 = x*x;\n",
    "    \n",
    "    PWN = (-x2/2\n",
    "    +np.log(1+gamma1/6*x*(x2-3)+gamma2/24*(x2*x2-6*x2+3)\n",
    "    +gamma1*gamma1/72*(((x2-15)*x2+45)*x2-15))\n",
    "    -np.log(2*math.pi)/2 -np.log(sp));\n",
    "    \n",
    "    log_cdf += PWN;\n",
    "    return log_cdf;\n",
    "\n",
    "def multinomCDF(G, k, p, tau_p):\n",
    "    return np.exp(multinomCDF_log(G, k, p, tau_p ));\n",
    "\n",
    "def get_minimum_targets_binom(p, alpha, k):\n",
    "    minimum_targets = []\n",
    "    p_np = p[1:]\n",
    "\n",
    "    for i in range(k):\n",
    "        mt = []\n",
    "        for p_j in p_np:\n",
    "            mt.append(binom.ppf(alpha, i+1, p_j))\n",
    "        minimum_targets.append(mt)   \n",
    "        \n",
    "    #output the minimum target number as a table    \n",
    "#     df = pd.DataFrame(data=(np.array(minimum_targets)).astype(int))\n",
    "#     df.columns = p_np\n",
    "#     df.index = np.array(range(k))+1\n",
    "#     df.to_html(\"binomial2Multinomial_\"+str(p)+\".html\")\n",
    "    return minimum_targets \n",
    "\n",
    "def create_ranking_yang_stoyanovich(p, k):\n",
    "    ''' Create a ranking of 'k' positions in which at each position the\n",
    "        probability that the candidate is protected is 'p'.\n",
    "    '''\n",
    "    ranking = []\n",
    "    p = get_cumulative_p(p)    \n",
    "\n",
    "    for i in range(k):\n",
    "        rand_p = random.random()\n",
    "        if rand_p <= p[0]:\n",
    "            ranking.append(0)\n",
    "        else:     \n",
    "            for j in range(1, len(p)):\n",
    "                if rand_p > p[j-1] and rand_p <= p[j]:\n",
    "                    ranking.append(j)\n",
    "    return ranking\n",
    "\n",
    "def get_cumulative_p (p):\n",
    "    cumulative_p = [p[0]]\n",
    "    \n",
    "    for x in range(1, len(p)):\n",
    "        cumulative_p.append(cumulative_p[x-1]+p[x])\n",
    "        \n",
    "    return cumulative_p    \n",
    "\n",
    "def get_counter(p, ranking):\n",
    "    counter = []\n",
    "    curr = [0] * len(p)\n",
    "    \n",
    "    for i in ranking:\n",
    "        for j in range(len(p)):\n",
    "            if i == j:\n",
    "                curr[j] = curr[j]+1\n",
    "        counter.append(copy.copy(curr))    \n",
    "        \n",
    "    return counter    \n"
   ]
  },
  {
   "cell_type": "code",
   "execution_count": 108,
   "metadata": {},
   "outputs": [],
   "source": [
    "def single_test(k, counter, minimum_targets):\n",
    "    singleTest = np.zeros(k)\n",
    "    \n",
    "    for i in range(k):\n",
    "        if any(counter[i][j+1]<minimum_targets[i][j] for j in range(len(counter[0])-1)) :\n",
    "            singleTest[i] += 1\n",
    "    return singleTest\n",
    "\n",
    "def multiple_test(k, counter, minimum_targets):\n",
    "    multipleTest = 0\n",
    "    \n",
    "    for i in range(k):\n",
    "        if any(counter[i][j+1]<minimum_targets[i][j] for j in range(len(counter[0])-1)) :\n",
    "            multipleTest += 1 \n",
    "            break\n",
    "\n",
    "    return multipleTest\n",
    "\n",
    "def single_test_multinom(k, counter, p, alpha):\n",
    "    singleTest = np.zeros(k)\n",
    "    \n",
    "#     for i in range(k):\n",
    "#         curr = counter[i]\n",
    "#         print \"curr before: \",curr\n",
    "#         curr[0] = i+1\n",
    "#         print \"G: \",len(p),\", k: \",i+1, \", p: \",p,\", curr\",curr\n",
    "#         print \"cdf: \",multinomCDF(len(p), i+1, p, curr)\n",
    "        \n",
    "#         if multinomCDF(len(p), i+1, p, curr) < alpha :\n",
    "#             singleTest[i] += 1\n",
    "    curr = counter[k-1]\n",
    "    curr[0] = k\n",
    "    if multinomCDF(len(p), k, p, curr) < alpha :\n",
    "        singleTest[k-1] += 1\n",
    "\n",
    "    return singleTest\n",
    "\n",
    "def multiple_test_multinom(k, counter, p, alpha):\n",
    "    multipleTest = 0\n",
    "    \n",
    "    for i in range(k):\n",
    "        curr = counter[i]\n",
    "        curr[0] = i+1\n",
    "        if multinomCDF(len(p), i+1, p, curr) < alpha :\n",
    "            multipleTest += 1 \n",
    "            break\n",
    "\n",
    "    return multipleTest\n",
    "\n",
    "def single_test_2_table (singleTest, multipleTest, p, N, alpha) :\n",
    "    fileName = \"./singleTest_binom/\"+str(p)+\"_N\"+str(N)+\"_alpha\"+str(alpha)+\"_\"+str(multipleTest)+\".csv\"\n",
    "    if not os.path.exists(os.path.dirname(fileName)):\n",
    "        try:\n",
    "            os.makedirs(os.path.dirname(fileName))\n",
    "        except OSError as exc: # Guard against race condition\n",
    "            if exc.errno != errno.EEXIST:\n",
    "                raise\n",
    "            \n",
    "    df = pd.DataFrame(data=(np.array(singleTest)).astype(int))\n",
    "    df.columns = [\"# failures\"]\n",
    "    df.index = np.array(range(k))+1\n",
    "    df.to_csv(fileName, index=True, index_label = \"K\")\n",
    "\n",
    "def single_test_2_table_multinom (singleTest, multipleTest, p, N, alpha) :\n",
    "    fileName = \"./singleTest_multinom/\"+str(p)+\"_N\"+str(N)+\"_alpha\"+str(alpha)+\"_\"+str(multipleTest)+\".csv\"\n",
    "    if not os.path.exists(os.path.dirname(fileName)):\n",
    "        try:\n",
    "            os.makedirs(os.path.dirname(fileName))\n",
    "        except OSError as exc: # Guard against race condition\n",
    "            if exc.errno != errno.EEXIST:\n",
    "                raise\n",
    "            \n",
    "    df = pd.DataFrame(data=(np.array(singleTest)).astype(int))\n",
    "    df.columns = [\"# failures\"]\n",
    "    df.index = np.array(range(k))+1\n",
    "    df.to_csv(fileName, index=True, index_label = \"K\")\n",
    "    "
   ]
  },
  {
   "cell_type": "code",
   "execution_count": 109,
   "metadata": {},
   "outputs": [],
   "source": [
    "def perform_tests (p, k, N, alpha):\n",
    "    singleTest = np.zeros(k)\n",
    "    multipleTest = 0\n",
    "    \n",
    "    # compute the table of minimum target number of each group\n",
    "    minimum_targets = get_minimum_targets_binom(p, alpha, k)\n",
    "    \n",
    "    for i in range(N):\n",
    "        \n",
    "        # generate ranking\n",
    "        ranking = create_ranking_yang_stoyanovich(p, k)\n",
    "        \n",
    "        # count the number of each group at each prefix of the ranking\n",
    "        counter = get_counter(p, ranking)\n",
    "                \n",
    "        # perform single test\n",
    "        singleTest += single_test(k, counter, minimum_targets)\n",
    "        \n",
    "        # perform multiple test\n",
    "        multipleTest += multiple_test(k, counter, minimum_targets)\n",
    "    \n",
    "    # save result of the single test as a table\n",
    "    single_test_2_table (singleTest, multipleTest, p, N, alpha)  \n",
    "    \n",
    "    return singleTest, multipleTest\n",
    "\n",
    "def perform_tests_multinom (p, k, N, alpha):\n",
    "    singleTest = np.zeros(k)\n",
    "    multipleTest = 0\n",
    "    \n",
    "    # compute the table of minimum target number of each group\n",
    "    minimum_targets = get_minimum_targets_binom(p, alpha, k)\n",
    "    \n",
    "    for i in range(N):\n",
    "        \n",
    "        # generate ranking\n",
    "        ranking = create_ranking_yang_stoyanovich(p, k)\n",
    "        \n",
    "        # count the number of each group at each prefix of the ranking\n",
    "        counter = get_counter(p, ranking)\n",
    "        \n",
    "        # perform single test\n",
    "        singleTest += single_test_multinom(k, counter, p, alpha)\n",
    "        \n",
    "        # perform multiple test\n",
    "        multipleTest += multiple_test_multinom(k, counter, p, alpha)\n",
    "    \n",
    "    # save result of the single test as a table\n",
    "    single_test_2_table_multinom (singleTest, multipleTest, p, N, alpha)\n",
    "    \n",
    "    return singleTest, multipleTest"
   ]
  },
  {
   "cell_type": "code",
   "execution_count": 110,
   "metadata": {
    "scrolled": true
   },
   "outputs": [
    {
     "name": "stdout",
     "output_type": "stream",
     "text": [
      "    # failures\n",
      "1            0\n",
      "2            0\n",
      "3            0\n",
      "4            0\n",
      "5            0\n",
      "6            0\n",
      "7            0\n",
      "8            0\n",
      "9            0\n",
      "10           3\n"
     ]
    },
    {
     "data": {
      "text/plain": [
       "(array([ 0.,  0.,  0.,  0.,  0.,  0.,  0.,  0.,  0.,  3.]), 17)"
      ]
     },
     "execution_count": 110,
     "metadata": {},
     "output_type": "execute_result"
    }
   ],
   "source": [
    "p = [0.5, 0.4, 0.1]\n",
    "k = 10\n",
    "N = 100\n",
    "alpha = 0.1\n",
    "\n",
    "perform_tests_multinom (p, k, N, alpha)"
   ]
  },
  {
   "cell_type": "code",
   "execution_count": 70,
   "metadata": {},
   "outputs": [
    {
     "data": {
      "text/plain": [
       "0.10529077356885252"
      ]
     },
     "execution_count": 70,
     "metadata": {},
     "output_type": "execute_result"
    }
   ],
   "source": [
    "multinomCDF(5, 100, [0.2, 0.2, 0.2, 0.2, 0.2], [100, 22 ,21 ,21, 21])"
   ]
  },
  {
   "cell_type": "code",
   "execution_count": 74,
   "metadata": {},
   "outputs": [
    {
     "data": {
      "text/plain": [
       "0.54931583484910518"
      ]
     },
     "execution_count": 74,
     "metadata": {},
     "output_type": "execute_result"
    }
   ],
   "source": [
    "multinomCDF(2, 100, [0.7, 0.3], [100, 30])"
   ]
  },
  {
   "cell_type": "code",
   "execution_count": 76,
   "metadata": {},
   "outputs": [
    {
     "data": {
      "text/plain": [
       "0.1131425224494112"
      ]
     },
     "execution_count": 76,
     "metadata": {},
     "output_type": "execute_result"
    }
   ],
   "source": [
    "multinomCDF(4, 100, [0.3, 0.3, 0.2, 0.2], [100, 30 ,20 ,21])"
   ]
  },
  {
   "cell_type": "code",
   "execution_count": 60,
   "metadata": {},
   "outputs": [
    {
     "data": {
      "text/plain": [
       "0.054968287329784746"
      ]
     },
     "execution_count": 60,
     "metadata": {},
     "output_type": "execute_result"
    }
   ],
   "source": [
    "multinomCDF(6, 100, [0.2, 0.2, 0.2, 0.2, 0.1, 0.1], [100, 21 ,21 ,21, 11, 11])"
   ]
  }
 ],
 "metadata": {
  "kernelspec": {
   "display_name": "Python 2",
   "language": "python",
   "name": "python2"
  },
  "language_info": {
   "codemirror_mode": {
    "name": "ipython",
    "version": 2
   },
   "file_extension": ".py",
   "mimetype": "text/x-python",
   "name": "python",
   "nbconvert_exporter": "python",
   "pygments_lexer": "ipython2",
   "version": "2.7.12"
  }
 },
 "nbformat": 4,
 "nbformat_minor": 2
}

{
 "cells": [
  {
   "cell_type": "markdown",
   "metadata": {},
   "source": [
    "# Multinomial Distribution"
   ]
  },
  {
   "cell_type": "code",
   "execution_count": 1,
   "metadata": {},
   "outputs": [],
   "source": [
    "import numpy\n",
    "import random\n",
    "\n",
    "countries = ['Germany', 'USA', 'Korea', 'Japan', 'UK'];"
   ]
  },
  {
   "cell_type": "code",
   "execution_count": 2,
   "metadata": {},
   "outputs": [
    {
     "name": "stdout",
     "output_type": "stream",
     "text": [
      "['USA' 'USA' 'Germany' 'USA' 'Germany' 'USA' 'UK' 'Japan' 'Germany' 'USA'\n",
      " 'Germany' 'Germany' 'USA' 'UK' 'USA' 'USA' 'USA' 'Korea' 'Japan' 'Korea']\n"
     ]
    }
   ],
   "source": [
    "random = numpy.random.choice(countries, [20]);\n",
    "print random"
   ]
  },
  {
   "cell_type": "code",
   "execution_count": 3,
   "metadata": {},
   "outputs": [],
   "source": [
    "p = [0.2,0.3,0.1,0.1,0.3];"
   ]
  },
  {
   "cell_type": "code",
   "execution_count": 4,
   "metadata": {},
   "outputs": [
    {
     "name": "stdout",
     "output_type": "stream",
     "text": [
      "['UK' 'Japan' 'Korea' 'UK' 'USA' 'UK' 'Korea' 'USA' 'Korea' 'UK' 'UK'\n",
      " 'Germany' 'Japan' 'Japan' 'Korea' 'USA' 'Japan' 'Japan' 'USA' 'Japan']\n"
     ]
    }
   ],
   "source": [
    "print numpy.random.choice(countries, [20], p=p);"
   ]
  },
  {
   "cell_type": "code",
   "execution_count": 5,
   "metadata": {},
   "outputs": [
    {
     "name": "stdout",
     "output_type": "stream",
     "text": [
      "[20 38  9  6 27]\n"
     ]
    }
   ],
   "source": [
    "multinom = numpy.random.multinomial(100, p);\n",
    "\n",
    "print multinom"
   ]
  },
  {
   "cell_type": "code",
   "execution_count": 6,
   "metadata": {},
   "outputs": [
    {
     "name": "stdout",
     "output_type": "stream",
     "text": [
      "col_0   3   4   5   6    7    8    9    10\n",
      "row_0                                     \n",
      "counts   1   2  22  90  186  304  289  106\n"
     ]
    }
   ],
   "source": [
    "import scipy.stats as stats\n",
    "import pandas as pd\n",
    "import matplotlib.pyplot as plt\n",
    "import numpy as np\n",
    "\n",
    "biased_coin_flips = stats.binom.rvs(n=10, p=0.8, size = 1000);\n",
    "\n",
    "print(pd.crosstab(index=\"counts\", columns=biased_coin_flips))"
   ]
  },
  {
   "cell_type": "code",
   "execution_count": 7,
   "metadata": {},
   "outputs": [
    {
     "data": {
      "text/plain": [
       "0.53066215768085256"
      ]
     },
     "execution_count": 7,
     "metadata": {},
     "output_type": "execute_result"
    }
   ],
   "source": [
    "stats.binom.cdf(k=80, n=200, p=0.4)"
   ]
  },
  {
   "cell_type": "code",
   "execution_count": 8,
   "metadata": {},
   "outputs": [
    {
     "data": {
      "text/plain": [
       "80.0"
      ]
     },
     "execution_count": 8,
     "metadata": {},
     "output_type": "execute_result"
    }
   ],
   "source": [
    "stats.binom.ppf(0.5306, 200, 0.4)"
   ]
  },
  {
   "cell_type": "code",
   "execution_count": 9,
   "metadata": {},
   "outputs": [
    {
     "data": {
      "text/plain": [
       "4.7845094658028107e-06"
      ]
     },
     "execution_count": 9,
     "metadata": {},
     "output_type": "execute_result"
    }
   ],
   "source": [
    "from scipy.stats import multinomial\n",
    "\n",
    "rv = multinomial(200,[0.2, 0.35, 0.15, 0.3])\n",
    "\n",
    "rv.pmf([30,80,40,50])"
   ]
  },
  {
   "cell_type": "code",
   "execution_count": 10,
   "metadata": {},
   "outputs": [
    {
     "data": {
      "text/plain": [
       "6.8910212687279235e-43"
      ]
     },
     "execution_count": 10,
     "metadata": {},
     "output_type": "execute_result"
    }
   ],
   "source": [
    "from scipy.stats import binom\n",
    "\n",
    "n1 = binom.pmf(30,200,0.2)\n",
    "n2 = binom.pmf(80,170,0.35)\n",
    "n3 = binom.pmf(40,90,0.15)\n",
    "n4 = binom.pmf(50,50,0.3)\n",
    "\n",
    "n1*n2*n3*n4"
   ]
  },
  {
   "cell_type": "code",
   "execution_count": 11,
   "metadata": {},
   "outputs": [
    {
     "data": {
      "text/plain": [
       "2.0296778726051747"
      ]
     },
     "execution_count": 11,
     "metadata": {},
     "output_type": "execute_result"
    }
   ],
   "source": [
    "n1 = stats.binom.cdf(k=30, n=200, p=0.2)\n",
    "n2 = stats.binom.cdf(k=80, n=200, p=0.35)\n",
    "n3 = stats.binom.cdf(k=40, n=200, p=0.15)\n",
    "n4 = stats.binom.cdf(k=50, n=200, p=0.3)\n",
    "\n",
    "n1+n2+n3+n4"
   ]
  },
  {
   "cell_type": "code",
   "execution_count": 12,
   "metadata": {},
   "outputs": [
    {
     "data": {
      "text/plain": [
       "0.031438536251836395"
      ]
     },
     "execution_count": 12,
     "metadata": {},
     "output_type": "execute_result"
    }
   ],
   "source": [
    "from scipy.stats import poisson\n",
    "import math\n",
    "\n",
    "\"\"\"\n",
    "G := number of categories\n",
    "k := Total trials\n",
    "p := Array of probabilities\n",
    "tau_p := Array of upperbounds\n",
    "\"\"\"\n",
    "\n",
    "# G = 12;\n",
    "# k = 12;\n",
    "# p = numpy.array([1.0/12]*12);\n",
    "# tau_p = numpy.array([3]*12);\n",
    "\n",
    "# G = 50;\n",
    "# k = 500;\n",
    "# p = numpy.array([0.02]*50);\n",
    "# tau_p = numpy.array([19]*50);\n",
    "\n",
    "G = 4;\n",
    "k = 100;\n",
    "p = numpy.array([0.4, 0.2, 0.2, 0.2]);\n",
    "tau_p = numpy.array([k, 24, 17, 17]);\n",
    "\n",
    "def multinomCDF_log(G, k, p, tau_p ):\n",
    "    s = float(k);\n",
    "    log_cdf = -poisson.logpmf(k,s);\n",
    "    gamma1 = 0.0;\n",
    "    gamma2 = 0.0;\n",
    "    sum_s2 = 0.0;\n",
    "    sum_mu = 0.0;\n",
    "    \n",
    "    # P(W=k)\n",
    "    for i in range(0,G):\n",
    "        sp = s*p[i];\n",
    "        \n",
    "        pcdf = poisson.cdf(tau_p[i],sp);\n",
    "        log_cdf += numpy.log(pcdf);\n",
    "        \n",
    "        mu = sp*(1-poisson.pmf(tau_p[i],sp)/pcdf);\n",
    "        s2 = mu-(tau_p[i]-mu)*(sp-mu);\n",
    "        \n",
    "        mr = tau_p[i];\n",
    "        mf2 = sp*mu-mr*(sp-mu);\n",
    "        \n",
    "        mr *= tau_p[i]-1;\n",
    "        mf3 = sp*mf2-mr*(sp-mu);\n",
    "        \n",
    "        mr *= tau_p[i]-2;\n",
    "        mf4 = sp*mf3-mr*(sp-mu);\n",
    "        \n",
    "        mu2 = mf2+mu*(1-mu);\n",
    "        mu3 = mf3+mf2*(3-3*mu)+mu*(1+mu*(-3+2*mu));\n",
    "        mu4 = mf4+mf3*(6-4*mu)+mf2*(7+mu*(-12+6*mu))+mu*(1+mu*(-4+mu*(6-3*mu)));\n",
    "        \n",
    "        gamma1 += mu3;\n",
    "        gamma2 += mu4-3*s2*s2;\n",
    "        sum_mu += mu;\n",
    "        sum_s2 += s2; \n",
    "    sp = numpy.sqrt(sum_s2);\n",
    "    gamma1 /= sum_s2*sp;\n",
    "    gamma2 /= sum_s2*sum_s2;\n",
    "    \n",
    "    x = (k-sum_mu)/sp;\n",
    "    x2 = x*x;\n",
    "    \n",
    "    PWN = (-x2/2\n",
    "    +numpy.log(1+gamma1/6*x*(x2-3)+gamma2/24*(x2*x2-6*x2+3)\n",
    "    +gamma1*gamma1/72*(((x2-15)*x2+45)*x2-15))\n",
    "    -numpy.log(2*math.pi)/2 -numpy.log(sp));\n",
    "    \n",
    "    log_cdf += PWN;\n",
    "    return log_cdf;\n",
    "\n",
    "def multinomCDF(G, k, p, tau_p):\n",
    "    return numpy.exp(multinomCDF_log(G, k, p, tau_p ));\n",
    "        \n",
    "multinomCDF(G, k, p, tau_p)   "
   ]
  },
  {
   "cell_type": "code",
   "execution_count": 51,
   "metadata": {},
   "outputs": [
    {
     "name": "stdout",
     "output_type": "stream",
     "text": [
      "['Half']\n"
     ]
    }
   ],
   "source": [
    "#Declare Data Set\n",
    "import numpy\n",
    "import random\n",
    "\n",
    "races = ['White', 'Black', 'Asian', 'Hispanic', 'Half'];\n",
    "p = [0.4, 0.3, 0.1, 0.1, 0.1];\n",
    "print numpy.random.choice(races, [1], p=p);"
   ]
  },
  {
   "cell_type": "code",
   "execution_count": 58,
   "metadata": {
    "scrolled": true
   },
   "outputs": [
    {
     "name": "stdout",
     "output_type": "stream",
     "text": [
      "1   :  [0 0 0 0]\n",
      "2   :  [0 0 0 0]\n",
      "3   :  [0 0 0 0]\n",
      "4   :  [1 0 0 0]\n",
      "5   :  [1 0 0 0]\n",
      "6   :  [1 0 0 0]\n",
      "7   :  [2 0 0 0]\n",
      "8   :  [2 0 0 0]\n",
      "9   :  [2 0 0 0]\n",
      "10   :  [3 1 1 1]\n",
      "11   :  [3 1 1 1]\n",
      "12   :  [3 1 1 1]\n",
      "13   :  [3 1 1 1]\n",
      "14   :  [4 1 1 1]\n",
      "15   :  [4 1 1 1]\n",
      "16   :  [4 1 1 1]\n",
      "17   :  [5 1 1 1]\n",
      "18   :  [5 1 1 1]\n",
      "19   :  [5 1 1 1]\n",
      "20   :  [6 2 2 2]\n",
      "21   :  [6 2 2 2]\n",
      "22   :  [6 2 2 2]\n",
      "23   :  [6 2 2 2]\n",
      "24   :  [7 2 2 2]\n",
      "25   :  [7 2 2 2]\n",
      "26   :  [7 2 2 2]\n",
      "27   :  [8 2 2 2]\n",
      "28   :  [8 2 2 2]\n",
      "29   :  [8 2 2 2]\n",
      "30   :  [9 3 3 3]\n",
      "31   :  [9 3 3 3]\n",
      "32   :  [9 3 3 3]\n",
      "33   :  [9 3 3 3]\n",
      "34   :  [10  3  3  3]\n",
      "35   :  [10  3  3  3]\n",
      "36   :  [10  3  3  3]\n",
      "37   :  [11  3  3  3]\n",
      "38   :  [11  3  3  3]\n",
      "39   :  [11  3  3  3]\n",
      "40   :  [12  4  4  4]\n",
      "41   :  [12  4  4  4]\n",
      "42   :  [12  4  4  4]\n",
      "43   :  [12  4  4  4]\n",
      "44   :  [13  4  4  4]\n",
      "45   :  [13  4  4  4]\n",
      "46   :  [13  4  4  4]\n",
      "47   :  [14  4  4  4]\n",
      "48   :  [14  4  4  4]\n",
      "49   :  [14  4  4  4]\n",
      "50   :  [15  5  5  5]\n"
     ]
    }
   ],
   "source": [
    "input = 50;\n",
    "positions = numpy.array(list(range(input))) + 1;\n",
    "prob = (numpy.array(list(range(8)))+1)/10.0;\n",
    "\n",
    "#for every position\n",
    "# for i in p:\n",
    "#     print stats.binom.ppf(0.1, positions, i);\n",
    "    \n",
    "#for each position for each protected attribute\n",
    "least_items = [];\n",
    "for i in positions:\n",
    "#     least_items.append(stats.binom.ppf(0.1, i, p)[1:]);\n",
    "    least_items.append((numpy.array(p)*i)[1:]);\n",
    "least_items = numpy.array(least_items)\n",
    "least_items = least_items.astype(int);\n",
    "for i in range (input):\n",
    "    print i+1,\"  : \",least_items[i];"
   ]
  },
  {
   "cell_type": "code",
   "execution_count": 74,
   "metadata": {},
   "outputs": [
    {
     "name": "stdout",
     "output_type": "stream",
     "text": [
      "Minimum achieved?  True\n",
      "['Half']\n",
      "1 :  [0, 0, 0, 0, 1]\n",
      "Minimum achieved?  True\n",
      "['White']\n",
      "2 :  [1, 0, 0, 0, 1]\n",
      "Minimum achieved?  True\n",
      "['White']\n",
      "3 :  [2, 0, 0, 0, 1]\n",
      "Minimum achieved?  False\n",
      "chosen Black\n",
      "4 :  [2, 1, 0, 0, 1]\n",
      "Minimum achieved?  True\n",
      "['White']\n",
      "5 :  [3, 1, 0, 0, 1]\n",
      "Minimum achieved?  True\n",
      "['White']\n",
      "6 :  [4, 1, 0, 0, 1]\n",
      "Minimum achieved?  False\n",
      "chosen Black\n",
      "7 :  [4, 2, 0, 0, 1]\n",
      "Minimum achieved?  True\n",
      "['Black']\n",
      "8 :  [4, 3, 0, 0, 1]\n",
      "Minimum achieved?  True\n",
      "['Black']\n",
      "9 :  [4, 4, 0, 0, 1]\n",
      "Minimum achieved?  False\n",
      "chosen Asian\n",
      "10 :  [4, 4, 1, 0, 1]\n",
      "Minimum achieved?  False\n",
      "chosen Hispanic\n",
      "11 :  [4, 4, 1, 1, 1]\n",
      "Minimum achieved?  True\n",
      "['White']\n",
      "12 :  [5, 4, 1, 1, 1]\n",
      "Minimum achieved?  True\n",
      "['White']\n",
      "13 :  [6, 4, 1, 1, 1]\n",
      "Minimum achieved?  True\n",
      "['Hispanic']\n",
      "14 :  [6, 4, 1, 2, 1]\n",
      "Minimum achieved?  True\n",
      "['Hispanic']\n",
      "15 :  [6, 4, 1, 3, 1]\n",
      "Minimum achieved?  True\n",
      "['White']\n",
      "16 :  [7, 4, 1, 3, 1]\n",
      "Minimum achieved?  False\n",
      "chosen Black\n",
      "17 :  [7, 5, 1, 3, 1]\n",
      "Minimum achieved?  True\n",
      "['White']\n",
      "18 :  [8, 5, 1, 3, 1]\n",
      "Minimum achieved?  True\n",
      "['Black']\n",
      "19 :  [8, 6, 1, 3, 1]\n",
      "Minimum achieved?  False\n",
      "chosen Asian\n",
      "20 :  [8, 6, 2, 3, 1]\n",
      "Minimum achieved?  False\n",
      "chosen Half\n",
      "21 :  [8, 6, 2, 3, 2]\n",
      "Minimum achieved?  True\n",
      "['White']\n",
      "22 :  [9, 6, 2, 3, 2]\n",
      "Minimum achieved?  True\n",
      "['Half']\n",
      "23 :  [9, 6, 2, 3, 3]\n",
      "Minimum achieved?  False\n",
      "chosen Black\n",
      "24 :  [9, 7, 2, 3, 3]\n",
      "Minimum achieved?  True\n",
      "['Hispanic']\n",
      "25 :  [9, 7, 2, 4, 3]\n",
      "Minimum achieved?  True\n",
      "['White']\n",
      "26 :  [10, 7, 2, 4, 3]\n",
      "Minimum achieved?  False\n",
      "chosen Black\n",
      "27 :  [10, 8, 2, 4, 3]\n",
      "Minimum achieved?  True\n",
      "['Asian']\n",
      "28 :  [10, 8, 3, 4, 3]\n",
      "Minimum achieved?  True\n",
      "['Black']\n",
      "29 :  [10, 9, 3, 4, 3]\n",
      "Minimum achieved?  True\n",
      "['Black']\n",
      "30 :  [10, 10, 3, 4, 3]\n",
      "Minimum achieved?  True\n",
      "['White']\n",
      "31 :  [11, 10, 3, 4, 3]\n",
      "Minimum achieved?  True\n",
      "['Black']\n",
      "32 :  [11, 11, 3, 4, 3]\n",
      "Minimum achieved?  True\n",
      "['White']\n",
      "33 :  [12, 11, 3, 4, 3]\n",
      "Minimum achieved?  True\n",
      "['Hispanic']\n",
      "34 :  [12, 11, 3, 5, 3]\n",
      "Minimum achieved?  True\n",
      "['White']\n",
      "35 :  [13, 11, 3, 5, 3]\n",
      "Minimum achieved?  True\n",
      "['Black']\n",
      "36 :  [13, 12, 3, 5, 3]\n",
      "Minimum achieved?  True\n",
      "['White']\n",
      "37 :  [14, 12, 3, 5, 3]\n",
      "Minimum achieved?  True\n",
      "['White']\n",
      "38 :  [15, 12, 3, 5, 3]\n",
      "Minimum achieved?  True\n",
      "['Asian']\n",
      "39 :  [15, 12, 4, 5, 3]\n",
      "Minimum achieved?  False\n",
      "chosen Half\n",
      "40 :  [15, 12, 4, 5, 4]\n",
      "Minimum achieved?  True\n",
      "['Black']\n",
      "41 :  [15, 13, 4, 5, 4]\n",
      "Minimum achieved?  True\n",
      "['Black']\n",
      "42 :  [15, 14, 4, 5, 4]\n",
      "Minimum achieved?  True\n",
      "['Hispanic']\n",
      "43 :  [15, 14, 4, 6, 4]\n",
      "Minimum achieved?  True\n",
      "['Black']\n",
      "44 :  [15, 15, 4, 6, 4]\n",
      "Minimum achieved?  True\n",
      "['Half']\n",
      "45 :  [15, 15, 4, 6, 5]\n",
      "Minimum achieved?  True\n",
      "['White']\n",
      "46 :  [16, 15, 4, 6, 5]\n",
      "Minimum achieved?  True\n",
      "['Asian']\n",
      "47 :  [16, 15, 5, 6, 5]\n",
      "Minimum achieved?  True\n",
      "['White']\n",
      "48 :  [17, 15, 5, 6, 5]\n",
      "Minimum achieved?  True\n",
      "['White']\n",
      "49 :  [18, 15, 5, 6, 5]\n",
      "Minimum achieved?  True\n",
      "['White']\n",
      "50 :  [19, 15, 5, 6, 5]\n"
     ]
    }
   ],
   "source": [
    "rank = [];\n",
    "count = [0, 0, 0, 0, 0];\n",
    "random_choice = \"\";\n",
    "chosen = 0;\n",
    "num = 1;\n",
    "for i in least_items:\n",
    "    print \"Minimum achieved? \", all(count[a+1]>=i[a] for a in range(len(i)))\n",
    "    for j in range(len(i)):\n",
    "        if(i[j] > count[j+1] and chosen == 0):\n",
    "            rank.append(races[j+1]);\n",
    "            print \"chosen\", races[j+1];\n",
    "            count[j+1] += 1;\n",
    "            chosen = 1;\n",
    "    if(chosen == 0):\n",
    "        random_choice = numpy.random.choice(races, 1, p=p);\n",
    "        print random_choice;\n",
    "        rank.append(random_choice);\n",
    "        count[races.index(random_choice)] += 1;\n",
    "    print num, \": \", count;\n",
    "    num = num+1;\n",
    "    chosen = 0;             "
   ]
  },
  {
   "cell_type": "code",
   "execution_count": 67,
   "metadata": {},
   "outputs": [
    {
     "data": {
      "text/plain": [
       "0.074625700649443502"
      ]
     },
     "execution_count": 67,
     "metadata": {},
     "output_type": "execute_result"
    }
   ],
   "source": [
    "#adjusting significance level alpha\n",
    "multinomCDF(5, input, [0.4,0.3, 0.1, 0.1, 0.1], [input,15,5,5,5])"
   ]
  },
  {
   "cell_type": "code",
   "execution_count": 75,
   "metadata": {},
   "outputs": [
    {
     "data": {
      "text/plain": [
       "0.10315507307479865"
      ]
     },
     "execution_count": 75,
     "metadata": {},
     "output_type": "execute_result"
    }
   ],
   "source": [
    "multinomCDF(5, input, [0.4,0.3, 0.1, 0.1, 0.1], [input,15,5,6,5])   "
   ]
  },
  {
   "cell_type": "code",
   "execution_count": 17,
   "metadata": {
    "scrolled": true
   },
   "outputs": [
    {
     "data": {
      "text/plain": [
       "0.1238767925993299"
      ]
     },
     "execution_count": 17,
     "metadata": {},
     "output_type": "execute_result"
    }
   ],
   "source": [
    "stats.binom.cdf(k=86, n=100, p=0.9)"
   ]
  },
  {
   "cell_type": "code",
   "execution_count": 18,
   "metadata": {
    "scrolled": true
   },
   "outputs": [
    {
     "name": "stdout",
     "output_type": "stream",
     "text": [
      "rank:  [array(['Black'],\n",
      "      dtype='|S8'), array(['White'],\n",
      "      dtype='|S8'), array(['Black'],\n",
      "      dtype='|S8'), array(['Hispanic'],\n",
      "      dtype='|S8'), array(['White'],\n",
      "      dtype='|S8'), array(['Hispanic'],\n",
      "      dtype='|S8'), array(['Black'],\n",
      "      dtype='|S8'), array(['Asian'],\n",
      "      dtype='|S8'), array(['White'],\n",
      "      dtype='|S8'), array(['Hispanic'],\n",
      "      dtype='|S8'), array(['Hispanic'],\n",
      "      dtype='|S8'), array(['Hispanic'],\n",
      "      dtype='|S8'), array(['White'],\n",
      "      dtype='|S8'), array(['Hispanic'],\n",
      "      dtype='|S8'), array(['Black'],\n",
      "      dtype='|S8'), array(['White'],\n",
      "      dtype='|S8'), array(['Asian'],\n",
      "      dtype='|S8'), array(['Black'],\n",
      "      dtype='|S8'), array(['Asian'],\n",
      "      dtype='|S8'), array(['White'],\n",
      "      dtype='|S8'), array(['Hispanic'],\n",
      "      dtype='|S8'), array(['White'],\n",
      "      dtype='|S8'), array(['Asian'],\n",
      "      dtype='|S8'), array(['White'],\n",
      "      dtype='|S8'), array(['Asian'],\n",
      "      dtype='|S8'), array(['Black'],\n",
      "      dtype='|S8'), array(['Black'],\n",
      "      dtype='|S8'), array(['White'],\n",
      "      dtype='|S8'), array(['Asian'],\n",
      "      dtype='|S8'), array(['White'],\n",
      "      dtype='|S8'), array(['White'],\n",
      "      dtype='|S8'), array(['Hispanic'],\n",
      "      dtype='|S8'), array(['Asian'],\n",
      "      dtype='|S8'), array(['White'],\n",
      "      dtype='|S8'), array(['Black'],\n",
      "      dtype='|S8'), array(['Hispanic'],\n",
      "      dtype='|S8'), array(['White'],\n",
      "      dtype='|S8'), array(['Asian'],\n",
      "      dtype='|S8'), array(['Black'],\n",
      "      dtype='|S8'), array(['White'],\n",
      "      dtype='|S8'), array(['White'],\n",
      "      dtype='|S8'), array(['Black'],\n",
      "      dtype='|S8'), array(['Asian'],\n",
      "      dtype='|S8'), array(['Black'],\n",
      "      dtype='|S8'), array(['Black'],\n",
      "      dtype='|S8'), array(['White'],\n",
      "      dtype='|S8'), array(['Black'],\n",
      "      dtype='|S8'), array(['Black'],\n",
      "      dtype='|S8'), array(['Black'],\n",
      "      dtype='|S8'), array(['Black'],\n",
      "      dtype='|S8'), array(['White'],\n",
      "      dtype='|S8'), array(['Black'],\n",
      "      dtype='|S8'), array(['Black'],\n",
      "      dtype='|S8'), array(['White'],\n",
      "      dtype='|S8'), array(['Black'],\n",
      "      dtype='|S8'), array(['Hispanic'],\n",
      "      dtype='|S8'), array(['White'],\n",
      "      dtype='|S8'), array(['Black'],\n",
      "      dtype='|S8'), array(['White'],\n",
      "      dtype='|S8'), array(['White'],\n",
      "      dtype='|S8'), array(['White'],\n",
      "      dtype='|S8'), array(['Hispanic'],\n",
      "      dtype='|S8'), array(['Black'],\n",
      "      dtype='|S8'), array(['Black'],\n",
      "      dtype='|S8'), array(['Black'],\n",
      "      dtype='|S8'), array(['White'],\n",
      "      dtype='|S8'), array(['Hispanic'],\n",
      "      dtype='|S8'), array(['White'],\n",
      "      dtype='|S8'), array(['Black'],\n",
      "      dtype='|S8'), array(['White'],\n",
      "      dtype='|S8'), array(['Black'],\n",
      "      dtype='|S8'), array(['White'],\n",
      "      dtype='|S8'), array(['Hispanic'],\n",
      "      dtype='|S8'), array(['White'],\n",
      "      dtype='|S8'), array(['Black'],\n",
      "      dtype='|S8'), array(['White'],\n",
      "      dtype='|S8'), array(['White'],\n",
      "      dtype='|S8'), array(['Black'],\n",
      "      dtype='|S8'), array(['Black'],\n",
      "      dtype='|S8'), array(['White'],\n",
      "      dtype='|S8'), array(['Hispanic'],\n",
      "      dtype='|S8'), array(['Hispanic'],\n",
      "      dtype='|S8'), array(['White'],\n",
      "      dtype='|S8'), array(['White'],\n",
      "      dtype='|S8'), array(['White'],\n",
      "      dtype='|S8'), array(['White'],\n",
      "      dtype='|S8'), array(['Hispanic'],\n",
      "      dtype='|S8'), array(['White'],\n",
      "      dtype='|S8'), array(['White'],\n",
      "      dtype='|S8'), array(['White'],\n",
      "      dtype='|S8'), array(['Hispanic'],\n",
      "      dtype='|S8'), array(['White'],\n",
      "      dtype='|S8'), array(['White'],\n",
      "      dtype='|S8'), array(['Asian'],\n",
      "      dtype='|S8'), array(['White'],\n",
      "      dtype='|S8'), array(['White'],\n",
      "      dtype='|S8'), array(['Hispanic'],\n",
      "      dtype='|S8'), array(['Black'],\n",
      "      dtype='|S8'), array(['White'],\n",
      "      dtype='|S8'), array(['White'],\n",
      "      dtype='|S8')]\n",
      "count:  [43, 29, 10, 18]\n"
     ]
    }
   ],
   "source": [
    "rank = [];\n",
    "count = [0, 0, 0, 0];\n",
    "num = 1;\n",
    "for i in least_items:\n",
    "    random_choice = numpy.random.choice(races, 1, p=p);\n",
    "#     print random_choice;\n",
    "#     rank.append(random_choice);\n",
    "    rank += [random_choice];\n",
    "    count[races.index(random_choice)] += 1;\n",
    "#     print num, \": \", count;\n",
    "#     num = num+1;\n",
    "print \"rank: \",rank;\n",
    "print \"count: \",count;\n"
   ]
  },
  {
   "cell_type": "code",
   "execution_count": 19,
   "metadata": {},
   "outputs": [
    {
     "name": "stdout",
     "output_type": "stream",
     "text": [
      "[47 21 19 13]\n"
     ]
    }
   ],
   "source": [
    "# White | Black| Asian | Hispanic\n",
    "multinom = numpy.random.multinomial(100, [0.4,0.2,0.2,0.2]);\n",
    "\n",
    "print multinom"
   ]
  },
  {
   "cell_type": "code",
   "execution_count": 20,
   "metadata": {
    "scrolled": true
   },
   "outputs": [
    {
     "name": "stdout",
     "output_type": "stream",
     "text": [
      "0 :  6.533186235e-23\n",
      "1 :  4.42078935235e-21\n",
      "2 :  1.48150886522e-19\n",
      "3 :  3.27827300267e-18\n",
      "4 :  5.38819138804e-17\n",
      "5 :  7.01608517115e-16\n",
      "6 :  7.53872266237e-15\n",
      "7 :  6.87471731056e-14\n",
      "8 :  5.43112664041e-13\n",
      "9 :  3.7758256393e-12\n",
      "10 :  2.33876176892e-11\n",
      "11 :  1.30361028871e-10\n",
      "12 :  6.5928511749e-10\n",
      "13 :  3.04622459433e-09\n",
      "14 :  1.29349738555e-08\n",
      "15 :  5.07319710317e-08\n",
      "16 :  1.84596336031e-07\n",
      "17 :  6.25561303086e-07\n",
      "18 :  1.98112027589e-06\n",
      "19 :  5.88132503973e-06\n",
      "20 :  1.64118779021e-05\n",
      "21 :  4.31561391399e-05\n",
      "22 :  0.000107180279679\n",
      "23 :  0.000251930510463\n",
      "24 :  0.00056153517075\n",
      "25 :  0.0011890006156\n",
      "26 :  0.00239566493262\n",
      "27 :  0.00460043430199\n",
      "28 :  0.00843253344398\n",
      "29 :  0.0147753182307\n",
      "30 :  0.0247828231165\n",
      "31 :  0.0398478842348\n",
      "32 :  0.0615039095925\n",
      "33 :  0.0912536009929\n",
      "34 :  0.130336528911\n",
      "35 :  0.17946935258\n",
      "36 :  0.238610714403\n",
      "37 :  0.306809762271\n",
      "38 :  0.382187657283\n",
      "39 :  0.462075340886\n",
      "40 :  0.543294485882\n",
      "41 :  0.622532676122\n",
      "42 :  0.696739870157\n",
      "43 :  0.763468819831\n",
      "44 :  0.821098367277\n",
      "45 :  0.86890954738\n",
      "46 :  0.907019908332\n",
      "47 :  0.936210823104\n",
      "48 :  0.957698579811\n",
      "49 :  0.972900802243\n",
      "50 :  0.983238313497\n",
      "51 :  0.9899948568\n",
      "52 :  0.994239351952\n",
      "53 :  0.996802066006\n",
      "54 :  0.998289072926\n",
      "55 :  0.999118191936\n",
      "56 :  0.999562362835\n",
      "57 :  0.99979094201\n",
      "58 :  0.999903917925\n",
      "59 :  0.999957533613\n",
      "60 :  0.999981958538\n",
      "61 :  0.9999926361\n",
      "62 :  0.999997113788\n",
      "63 :  0.999998914339\n",
      "64 :  0.999999608302\n",
      "65 :  0.999999864534\n",
      "66 :  0.999999955122\n",
      "67 :  0.999999985768\n",
      "68 :  0.999999995683\n",
      "69 :  0.999999998749\n",
      "70 :  0.999999999654\n",
      "71 :  0.999999999909\n",
      "72 :  0.999999999977\n",
      "73 :  0.999999999994\n",
      "74 :  0.999999999999\n",
      "75 :  1.0\n",
      "76 :  1.0\n",
      "77 :  1.0\n",
      "78 :  1.0\n",
      "79 :  1.0\n",
      "80 :  1.0\n",
      "81 :  1.0\n",
      "82 :  1.0\n",
      "83 :  1.0\n",
      "84 :  1.0\n",
      "85 :  1.0\n",
      "86 :  1.0\n",
      "87 :  1.0\n",
      "88 :  1.0\n",
      "89 :  1.0\n",
      "90 :  1.0\n",
      "91 :  1.0\n",
      "92 :  1.0\n",
      "93 :  1.0\n",
      "94 :  1.0\n",
      "95 :  1.0\n",
      "96 :  1.0\n",
      "97 :  1.0\n",
      "98 :  1.0\n",
      "99 :  1.0\n",
      "100 :  1.0\n"
     ]
    }
   ],
   "source": [
    "for i in range(101):\n",
    "    print i,\": \",stats.binom.cdf(k=i, n=100, p=0.4)"
   ]
  },
  {
   "cell_type": "code",
   "execution_count": 21,
   "metadata": {},
   "outputs": [
    {
     "data": {
      "text/plain": [
       "34.0"
      ]
     },
     "execution_count": 21,
     "metadata": {},
     "output_type": "execute_result"
    }
   ],
   "source": [
    "stats.binom.ppf(0.1, 100, 0.4)"
   ]
  }
 ],
 "metadata": {
  "kernelspec": {
   "display_name": "Python 2",
   "language": "python",
   "name": "python2"
  },
  "language_info": {
   "codemirror_mode": {
    "name": "ipython",
    "version": 2
   },
   "file_extension": ".py",
   "mimetype": "text/x-python",
   "name": "python",
   "nbconvert_exporter": "python",
   "pygments_lexer": "ipython2",
   "version": "2.7.12"
  }
 },
 "nbformat": 4,
 "nbformat_minor": 2
}

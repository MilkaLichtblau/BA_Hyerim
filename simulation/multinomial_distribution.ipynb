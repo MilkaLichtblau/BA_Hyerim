{
 "cells": [
  {
   "cell_type": "markdown",
   "metadata": {},
   "source": [
    "# Multinomial Distribution"
   ]
  },
  {
   "cell_type": "code",
   "execution_count": 21,
   "metadata": {},
   "outputs": [],
   "source": [
    "import numpy\n",
    "import random\n",
    "\n",
    "countries = ['Germany', 'USA', 'Korea', 'Japan', 'UK'];"
   ]
  },
  {
   "cell_type": "code",
   "execution_count": 22,
   "metadata": {},
   "outputs": [
    {
     "name": "stdout",
     "output_type": "stream",
     "text": [
      "['USA' 'Korea' 'UK' 'UK' 'USA' 'UK' 'Japan' 'USA' 'Japan' 'Germany' 'UK'\n",
      " 'Japan' 'Japan' 'Japan' 'USA' 'Japan' 'Germany' 'Germany' 'USA' 'Korea']\n"
     ]
    }
   ],
   "source": [
    "random = numpy.random.choice(countries, [20]);\n",
    "print random"
   ]
  },
  {
   "cell_type": "code",
   "execution_count": 23,
   "metadata": {},
   "outputs": [],
   "source": [
    "p = [0.2,0.3,0.1,0.1,0.3];"
   ]
  },
  {
   "cell_type": "code",
   "execution_count": 24,
   "metadata": {},
   "outputs": [
    {
     "name": "stdout",
     "output_type": "stream",
     "text": [
      "['Germany' 'UK' 'Japan' 'UK' 'Korea' 'USA' 'USA' 'USA' 'UK' 'Germany'\n",
      " 'Japan' 'UK' 'Japan' 'Korea' 'UK' 'UK' 'Germany' 'UK' 'UK' 'Korea']\n"
     ]
    }
   ],
   "source": [
    "print numpy.random.choice(countries, [20], p=p);"
   ]
  },
  {
   "cell_type": "code",
   "execution_count": 25,
   "metadata": {},
   "outputs": [
    {
     "name": "stdout",
     "output_type": "stream",
     "text": [
      "[21 24 10 14 31]\n"
     ]
    }
   ],
   "source": [
    "multinom = numpy.random.multinomial(100, p);\n",
    "\n",
    "print multinom"
   ]
  },
  {
   "cell_type": "code",
   "execution_count": 26,
   "metadata": {},
   "outputs": [
    {
     "name": "stdout",
     "output_type": "stream",
     "text": [
      "col_0   3   4   5   6    7    8    9    10\n",
      "row_0                                     \n",
      "counts   1   3  21  83  208  312  270  102\n"
     ]
    }
   ],
   "source": [
    "import scipy.stats as stats\n",
    "import pandas as pd\n",
    "import matplotlib.pyplot as plt\n",
    "import numpy as np\n",
    "\n",
    "biased_coin_flips = stats.binom.rvs(n=10, p=0.8, size = 1000);\n",
    "\n",
    "print(pd.crosstab(index=\"counts\", columns=biased_coin_flips))"
   ]
  },
  {
   "cell_type": "code",
   "execution_count": 27,
   "metadata": {},
   "outputs": [
    {
     "data": {
      "text/plain": [
       "0.53066215768085256"
      ]
     },
     "execution_count": 27,
     "metadata": {},
     "output_type": "execute_result"
    }
   ],
   "source": [
    "stats.binom.cdf(k=80, n=200, p=0.4)"
   ]
  },
  {
   "cell_type": "code",
   "execution_count": 28,
   "metadata": {},
   "outputs": [
    {
     "data": {
      "text/plain": [
       "80.0"
      ]
     },
     "execution_count": 28,
     "metadata": {},
     "output_type": "execute_result"
    }
   ],
   "source": [
    "stats.binom.ppf(0.5306, 200, 0.4)"
   ]
  },
  {
   "cell_type": "code",
   "execution_count": 29,
   "metadata": {},
   "outputs": [
    {
     "data": {
      "text/plain": [
       "4.7845094658028107e-06"
      ]
     },
     "execution_count": 29,
     "metadata": {},
     "output_type": "execute_result"
    }
   ],
   "source": [
    "from scipy.stats import multinomial\n",
    "\n",
    "rv = multinomial(200,[0.2, 0.35, 0.15, 0.3])\n",
    "\n",
    "rv.pmf([30,80,40,50])"
   ]
  },
  {
   "cell_type": "code",
   "execution_count": 30,
   "metadata": {},
   "outputs": [
    {
     "data": {
      "text/plain": [
       "6.8910212687279235e-43"
      ]
     },
     "execution_count": 30,
     "metadata": {},
     "output_type": "execute_result"
    }
   ],
   "source": [
    "from scipy.stats import binom\n",
    "\n",
    "n1 = binom.pmf(30,200,0.2)\n",
    "n2 = binom.pmf(80,170,0.35)\n",
    "n3 = binom.pmf(40,90,0.15)\n",
    "n4 = binom.pmf(50,50,0.3)\n",
    "\n",
    "n1*n2*n3*n4"
   ]
  },
  {
   "cell_type": "code",
   "execution_count": 31,
   "metadata": {},
   "outputs": [
    {
     "data": {
      "text/plain": [
       "2.0296778726051747"
      ]
     },
     "execution_count": 31,
     "metadata": {},
     "output_type": "execute_result"
    }
   ],
   "source": [
    "n1 = stats.binom.cdf(k=30, n=200, p=0.2)\n",
    "n2 = stats.binom.cdf(k=80, n=200, p=0.35)\n",
    "n3 = stats.binom.cdf(k=40, n=200, p=0.15)\n",
    "n4 = stats.binom.cdf(k=50, n=200, p=0.3)\n",
    "\n",
    "n1+n2+n3+n4"
   ]
  },
  {
   "cell_type": "code",
   "execution_count": 32,
   "metadata": {},
   "outputs": [
    {
     "data": {
      "text/plain": [
       "0.031438536251836395"
      ]
     },
     "execution_count": 32,
     "metadata": {},
     "output_type": "execute_result"
    }
   ],
   "source": [
    "from scipy.stats import poisson\n",
    "import math\n",
    "\n",
    "\"\"\"\n",
    "G := number of categories\n",
    "k := Total trials\n",
    "p := Array of probabilities\n",
    "tau_p := Array of upperbounds\n",
    "\"\"\"\n",
    "\n",
    "# G = 12;\n",
    "# k = 12;\n",
    "# p = numpy.array([1.0/12]*12);\n",
    "# tau_p = numpy.array([3]*12);\n",
    "\n",
    "# G = 50;\n",
    "# k = 500;\n",
    "# p = numpy.array([0.02]*50);\n",
    "# tau_p = numpy.array([19]*50);\n",
    "\n",
    "G = 4;\n",
    "k = 100;\n",
    "p = numpy.array([0.4, 0.2, 0.2, 0.2]);\n",
    "tau_p = numpy.array([k, 24, 17, 17]);\n",
    "\n",
    "def multinomCDF_log(G, k, p, tau_p ):\n",
    "    s = float(k);\n",
    "    log_cdf = -poisson.logpmf(k,s);\n",
    "    gamma1 = 0.0;\n",
    "    gamma2 = 0.0;\n",
    "    sum_s2 = 0.0;\n",
    "    sum_mu = 0.0;\n",
    "    \n",
    "    # P(W=k)\n",
    "    for i in range(0,G):\n",
    "        sp = s*p[i];\n",
    "        \n",
    "        pcdf = poisson.cdf(tau_p[i],sp);\n",
    "        log_cdf += numpy.log(pcdf);\n",
    "        \n",
    "        mu = sp*(1-poisson.pmf(tau_p[i],sp)/pcdf);\n",
    "        s2 = mu-(tau_p[i]-mu)*(sp-mu);\n",
    "        \n",
    "        mr = tau_p[i];\n",
    "        mf2 = sp*mu-mr*(sp-mu);\n",
    "        \n",
    "        mr *= tau_p[i]-1;\n",
    "        mf3 = sp*mf2-mr*(sp-mu);\n",
    "        \n",
    "        mr *= tau_p[i]-2;\n",
    "        mf4 = sp*mf3-mr*(sp-mu);\n",
    "        \n",
    "        mu2 = mf2+mu*(1-mu);\n",
    "        mu3 = mf3+mf2*(3-3*mu)+mu*(1+mu*(-3+2*mu));\n",
    "        mu4 = mf4+mf3*(6-4*mu)+mf2*(7+mu*(-12+6*mu))+mu*(1+mu*(-4+mu*(6-3*mu)));\n",
    "        \n",
    "        gamma1 += mu3;\n",
    "        gamma2 += mu4-3*s2*s2;\n",
    "        sum_mu += mu;\n",
    "        sum_s2 += s2; \n",
    "    sp = numpy.sqrt(sum_s2);\n",
    "    gamma1 /= sum_s2*sp;\n",
    "    gamma2 /= sum_s2*sum_s2;\n",
    "    \n",
    "    x = (k-sum_mu)/sp;\n",
    "    x2 = x*x;\n",
    "    \n",
    "    PWN = (-x2/2\n",
    "    +numpy.log(1+gamma1/6*x*(x2-3)+gamma2/24*(x2*x2-6*x2+3)\n",
    "    +gamma1*gamma1/72*(((x2-15)*x2+45)*x2-15))\n",
    "    -numpy.log(2*math.pi)/2 -numpy.log(sp));\n",
    "    \n",
    "    log_cdf += PWN;\n",
    "    return log_cdf;\n",
    "\n",
    "def multinomCDF(G, k, p, tau_p):\n",
    "    return numpy.exp(multinomCDF_log(G, k, p, tau_p ));\n",
    "        \n",
    "multinomCDF(G, k, p, tau_p)   "
   ]
  },
  {
   "cell_type": "code",
   "execution_count": 33,
   "metadata": {},
   "outputs": [
    {
     "name": "stdout",
     "output_type": "stream",
     "text": [
      "['Black']\n"
     ]
    }
   ],
   "source": [
    "#Declare Data Set\n",
    "import numpy\n",
    "import random\n",
    "\n",
    "races = ['White', 'Black', 'Asian', 'Hispanic', 'Half'];\n",
    "p = [0.4, 0.3, 0.1, 0.1, 0.1];\n",
    "print numpy.random.choice(races, [1], p=p);"
   ]
  },
  {
   "cell_type": "code",
   "execution_count": 34,
   "metadata": {
    "scrolled": true
   },
   "outputs": [
    {
     "name": "stdout",
     "output_type": "stream",
     "text": [
      "1   :  [0 0 0 0]\n",
      "2   :  [0 0 0 0]\n",
      "3   :  [0 0 0 0]\n",
      "4   :  [1 0 0 0]\n",
      "5   :  [1 0 0 0]\n",
      "6   :  [1 0 0 0]\n",
      "7   :  [2 0 0 0]\n",
      "8   :  [2 0 0 0]\n",
      "9   :  [2 0 0 0]\n",
      "10   :  [3 1 1 1]\n",
      "11   :  [3 1 1 1]\n",
      "12   :  [3 1 1 1]\n",
      "13   :  [3 1 1 1]\n",
      "14   :  [4 1 1 1]\n",
      "15   :  [4 1 1 1]\n",
      "16   :  [4 1 1 1]\n",
      "17   :  [5 1 1 1]\n",
      "18   :  [5 1 1 1]\n",
      "19   :  [5 1 1 1]\n",
      "20   :  [6 2 2 2]\n",
      "21   :  [6 2 2 2]\n",
      "22   :  [6 2 2 2]\n",
      "23   :  [6 2 2 2]\n",
      "24   :  [7 2 2 2]\n",
      "25   :  [7 2 2 2]\n",
      "26   :  [7 2 2 2]\n",
      "27   :  [8 2 2 2]\n",
      "28   :  [8 2 2 2]\n",
      "29   :  [8 2 2 2]\n",
      "30   :  [9 3 3 3]\n",
      "31   :  [9 3 3 3]\n",
      "32   :  [9 3 3 3]\n",
      "33   :  [9 3 3 3]\n",
      "34   :  [10  3  3  3]\n",
      "35   :  [10  3  3  3]\n",
      "36   :  [10  3  3  3]\n",
      "37   :  [11  3  3  3]\n",
      "38   :  [11  3  3  3]\n",
      "39   :  [11  3  3  3]\n",
      "40   :  [12  4  4  4]\n",
      "41   :  [12  4  4  4]\n",
      "42   :  [12  4  4  4]\n",
      "43   :  [12  4  4  4]\n",
      "44   :  [13  4  4  4]\n",
      "45   :  [13  4  4  4]\n",
      "46   :  [13  4  4  4]\n",
      "47   :  [14  4  4  4]\n",
      "48   :  [14  4  4  4]\n",
      "49   :  [14  4  4  4]\n",
      "50   :  [15  5  5  5]\n"
     ]
    }
   ],
   "source": [
    "input = 50;\n",
    "positions = numpy.array(list(range(input))) + 1;\n",
    "prob = (numpy.array(list(range(8)))+1)/10.0;\n",
    "\n",
    "#for every position\n",
    "# for i in p:\n",
    "#     print stats.binom.ppf(0.1, positions, i);\n",
    "    \n",
    "#for each position for each protected attribute\n",
    "least_items = [];\n",
    "for i in positions:\n",
    "#     least_items.append(stats.binom.ppf(0.1, i, p)[1:]);\n",
    "    least_items.append((numpy.array(p)*i)[1:]);\n",
    "least_items = numpy.array(least_items)\n",
    "least_items = least_items.astype(int);\n",
    "for i in range (input):\n",
    "    print i+1,\"  : \",least_items[i];"
   ]
  },
  {
   "cell_type": "code",
   "execution_count": 35,
   "metadata": {},
   "outputs": [
    {
     "name": "stdout",
     "output_type": "stream",
     "text": [
      "Minimum achieved?  True\n",
      "['White']\n",
      "1 :  [1, 0, 0, 0, 0]\n",
      "Minimum achieved?  True\n",
      "['Black']\n",
      "2 :  [1, 1, 0, 0, 0]\n",
      "Minimum achieved?  True\n",
      "['Asian']\n",
      "3 :  [1, 1, 1, 0, 0]\n",
      "Minimum achieved?  True\n",
      "['White']\n",
      "4 :  [2, 1, 1, 0, 0]\n",
      "Minimum achieved?  True\n",
      "['Half']\n",
      "5 :  [2, 1, 1, 0, 1]\n",
      "Minimum achieved?  True\n",
      "['Hispanic']\n",
      "6 :  [2, 1, 1, 1, 1]\n",
      "Minimum achieved?  False\n",
      "chosen Black\n",
      "7 :  [2, 2, 1, 1, 1]\n",
      "Minimum achieved?  True\n",
      "['Black']\n",
      "8 :  [2, 3, 1, 1, 1]\n",
      "Minimum achieved?  True\n",
      "['White']\n",
      "9 :  [3, 3, 1, 1, 1]\n",
      "Minimum achieved?  True\n",
      "['White']\n",
      "10 :  [4, 3, 1, 1, 1]\n",
      "Minimum achieved?  True\n",
      "['Black']\n",
      "11 :  [4, 4, 1, 1, 1]\n",
      "Minimum achieved?  True\n",
      "['Black']\n",
      "12 :  [4, 5, 1, 1, 1]\n",
      "Minimum achieved?  True\n",
      "['Hispanic']\n",
      "13 :  [4, 5, 1, 2, 1]\n",
      "Minimum achieved?  True\n",
      "['White']\n",
      "14 :  [5, 5, 1, 2, 1]\n",
      "Minimum achieved?  True\n",
      "['White']\n",
      "15 :  [6, 5, 1, 2, 1]\n",
      "Minimum achieved?  True\n",
      "['Hispanic']\n",
      "16 :  [6, 5, 1, 3, 1]\n",
      "Minimum achieved?  True\n",
      "['White']\n",
      "17 :  [7, 5, 1, 3, 1]\n",
      "Minimum achieved?  True\n",
      "['Asian']\n",
      "18 :  [7, 5, 2, 3, 1]\n",
      "Minimum achieved?  True\n",
      "['Half']\n",
      "19 :  [7, 5, 2, 3, 2]\n",
      "Minimum achieved?  False\n",
      "chosen Black\n",
      "20 :  [7, 6, 2, 3, 2]\n",
      "Minimum achieved?  True\n",
      "['Asian']\n",
      "21 :  [7, 6, 3, 3, 2]\n",
      "Minimum achieved?  True\n",
      "['White']\n",
      "22 :  [8, 6, 3, 3, 2]\n",
      "Minimum achieved?  True\n",
      "['Black']\n",
      "23 :  [8, 7, 3, 3, 2]\n",
      "Minimum achieved?  True\n",
      "['Black']\n",
      "24 :  [8, 8, 3, 3, 2]\n",
      "Minimum achieved?  True\n",
      "['Asian']\n",
      "25 :  [8, 8, 4, 3, 2]\n",
      "Minimum achieved?  True\n",
      "['Half']\n",
      "26 :  [8, 8, 4, 3, 3]\n",
      "Minimum achieved?  True\n",
      "['Black']\n",
      "27 :  [8, 9, 4, 3, 3]\n",
      "Minimum achieved?  True\n",
      "['White']\n",
      "28 :  [9, 9, 4, 3, 3]\n",
      "Minimum achieved?  True\n",
      "['Hispanic']\n",
      "29 :  [9, 9, 4, 4, 3]\n",
      "Minimum achieved?  True\n",
      "['White']\n",
      "30 :  [10, 9, 4, 4, 3]\n",
      "Minimum achieved?  True\n",
      "['Black']\n",
      "31 :  [10, 10, 4, 4, 3]\n",
      "Minimum achieved?  True\n",
      "['Black']\n",
      "32 :  [10, 11, 4, 4, 3]\n",
      "Minimum achieved?  True\n",
      "['Hispanic']\n",
      "33 :  [10, 11, 4, 5, 3]\n",
      "Minimum achieved?  True\n",
      "['White']\n",
      "34 :  [11, 11, 4, 5, 3]\n",
      "Minimum achieved?  True\n",
      "['Half']\n",
      "35 :  [11, 11, 4, 5, 4]\n",
      "Minimum achieved?  True\n",
      "['White']\n",
      "36 :  [12, 11, 4, 5, 4]\n",
      "Minimum achieved?  True\n",
      "['Black']\n",
      "37 :  [12, 12, 4, 5, 4]\n",
      "Minimum achieved?  True\n",
      "['White']\n",
      "38 :  [13, 12, 4, 5, 4]\n",
      "Minimum achieved?  True\n",
      "['White']\n",
      "39 :  [14, 12, 4, 5, 4]\n",
      "Minimum achieved?  True\n",
      "['White']\n",
      "40 :  [15, 12, 4, 5, 4]\n",
      "Minimum achieved?  True\n",
      "['Black']\n",
      "41 :  [15, 13, 4, 5, 4]\n",
      "Minimum achieved?  True\n",
      "['White']\n",
      "42 :  [16, 13, 4, 5, 4]\n",
      "Minimum achieved?  True\n",
      "['White']\n",
      "43 :  [17, 13, 4, 5, 4]\n",
      "Minimum achieved?  True\n",
      "['White']\n",
      "44 :  [18, 13, 4, 5, 4]\n",
      "Minimum achieved?  True\n",
      "['White']\n",
      "45 :  [19, 13, 4, 5, 4]\n",
      "Minimum achieved?  True\n",
      "['Black']\n",
      "46 :  [19, 14, 4, 5, 4]\n",
      "Minimum achieved?  True\n",
      "['Hispanic']\n",
      "47 :  [19, 14, 4, 6, 4]\n",
      "Minimum achieved?  True\n",
      "['White']\n",
      "48 :  [20, 14, 4, 6, 4]\n",
      "Minimum achieved?  True\n",
      "['White']\n",
      "49 :  [21, 14, 4, 6, 4]\n",
      "Minimum achieved?  False\n",
      "chosen Black\n",
      "50 :  [21, 15, 4, 6, 4]\n"
     ]
    }
   ],
   "source": [
    "rank = [];\n",
    "count = [0, 0, 0, 0, 0];\n",
    "random_choice = \"\";\n",
    "chosen = 0;\n",
    "num = 1;\n",
    "for i in least_items:\n",
    "    print \"Minimum achieved? \", all(count[a+1]>=i[a] for a in range(len(i)))\n",
    "    for j in range(len(i)):\n",
    "        if(i[j] > count[j+1] and chosen == 0):\n",
    "            rank.append(races[j+1]);\n",
    "            print \"chosen\", races[j+1];\n",
    "            count[j+1] += 1;\n",
    "            chosen = 1;\n",
    "    if(chosen == 0):\n",
    "        random_choice = numpy.random.choice(races, 1, p=p);\n",
    "        print random_choice;\n",
    "        rank.append(random_choice);\n",
    "        count[races.index(random_choice)] += 1;\n",
    "    print num, \": \", count;\n",
    "    num = num+1;\n",
    "    chosen = 0;             "
   ]
  },
  {
   "cell_type": "code",
   "execution_count": 36,
   "metadata": {},
   "outputs": [
    {
     "data": {
      "text/plain": [
       "0.074625700649443502"
      ]
     },
     "execution_count": 36,
     "metadata": {},
     "output_type": "execute_result"
    }
   ],
   "source": [
    "#adjusting significance level alpha\n",
    "multinomCDF(5, input, [0.4,0.3, 0.1, 0.1, 0.1], [input,15,5,5,5])"
   ]
  },
  {
   "cell_type": "code",
   "execution_count": 41,
   "metadata": {},
   "outputs": [
    {
     "data": {
      "text/plain": [
       "24.0"
      ]
     },
     "execution_count": 41,
     "metadata": {},
     "output_type": "execute_result"
    }
   ],
   "source": [
    "stats.binom.ppf(0.1, 100, 0.3)"
   ]
  },
  {
   "cell_type": "code",
   "execution_count": 38,
   "metadata": {
    "scrolled": true
   },
   "outputs": [
    {
     "data": {
      "text/plain": [
       "0.1238767925993299"
      ]
     },
     "execution_count": 38,
     "metadata": {},
     "output_type": "execute_result"
    }
   ],
   "source": [
    "stats.binom.cdf(k=86, n=100, p=0.9)"
   ]
  },
  {
   "cell_type": "code",
   "execution_count": 39,
   "metadata": {
    "scrolled": true
   },
   "outputs": [
    {
     "ename": "IndexError",
     "evalue": "list index out of range",
     "output_type": "error",
     "traceback": [
      "\u001b[0;31m---------------------------------------------------------------------------\u001b[0m",
      "\u001b[0;31mIndexError\u001b[0m                                Traceback (most recent call last)",
      "\u001b[0;32m<ipython-input-39-b597817ad9f2>\u001b[0m in \u001b[0;36m<module>\u001b[0;34m()\u001b[0m\n\u001b[1;32m      7\u001b[0m \u001b[0;31m#     rank.append(random_choice);\u001b[0m\u001b[0;34m\u001b[0m\u001b[0;34m\u001b[0m\u001b[0m\n\u001b[1;32m      8\u001b[0m     \u001b[0mrank\u001b[0m \u001b[0;34m+=\u001b[0m \u001b[0;34m[\u001b[0m\u001b[0mrandom_choice\u001b[0m\u001b[0;34m]\u001b[0m\u001b[0;34m;\u001b[0m\u001b[0;34m\u001b[0m\u001b[0m\n\u001b[0;32m----> 9\u001b[0;31m     \u001b[0mcount\u001b[0m\u001b[0;34m[\u001b[0m\u001b[0mraces\u001b[0m\u001b[0;34m.\u001b[0m\u001b[0mindex\u001b[0m\u001b[0;34m(\u001b[0m\u001b[0mrandom_choice\u001b[0m\u001b[0;34m)\u001b[0m\u001b[0;34m]\u001b[0m \u001b[0;34m+=\u001b[0m \u001b[0;36m1\u001b[0m\u001b[0;34m;\u001b[0m\u001b[0;34m\u001b[0m\u001b[0m\n\u001b[0m\u001b[1;32m     10\u001b[0m \u001b[0;31m#     print num, \": \", count;\u001b[0m\u001b[0;34m\u001b[0m\u001b[0;34m\u001b[0m\u001b[0m\n\u001b[1;32m     11\u001b[0m \u001b[0;31m#     num = num+1;\u001b[0m\u001b[0;34m\u001b[0m\u001b[0;34m\u001b[0m\u001b[0m\n",
      "\u001b[0;31mIndexError\u001b[0m: list index out of range"
     ]
    }
   ],
   "source": [
    "rank = [];\n",
    "count = [0, 0, 0, 0];\n",
    "num = 1;\n",
    "for i in least_items:\n",
    "    random_choice = numpy.random.choice(races, 1, p=p);\n",
    "#     print random_choice;\n",
    "#     rank.append(random_choice);\n",
    "    rank += [random_choice];\n",
    "    count[races.index(random_choice)] += 1;\n",
    "#     print num, \": \", count;\n",
    "#     num = num+1;\n",
    "print \"rank: \",rank;\n",
    "print \"count: \",count;\n"
   ]
  },
  {
   "cell_type": "code",
   "execution_count": null,
   "metadata": {},
   "outputs": [],
   "source": [
    "# White | Black| Asian | Hispanic\n",
    "multinom = numpy.random.multinomial(100, [0.4,0.2,0.2,0.2]);\n",
    "\n",
    "print multinom"
   ]
  },
  {
   "cell_type": "code",
   "execution_count": null,
   "metadata": {
    "scrolled": true
   },
   "outputs": [],
   "source": [
    "for i in range(101):\n",
    "    print i,\": \",stats.binom.cdf(k=i, n=100, p=0.4)"
   ]
  },
  {
   "cell_type": "code",
   "execution_count": null,
   "metadata": {},
   "outputs": [],
   "source": [
    "stats.binom.ppf(0.1, 100, 0.4)\n",
    "stats.binom.cdf(k=80, n=200, p=0.4)"
   ]
  }
 ],
 "metadata": {
  "kernelspec": {
   "display_name": "Python 2",
   "language": "python",
   "name": "python2"
  },
  "language_info": {
   "codemirror_mode": {
    "name": "ipython",
    "version": 2
   },
   "file_extension": ".py",
   "mimetype": "text/x-python",
   "name": "python",
   "nbconvert_exporter": "python",
   "pygments_lexer": "ipython2",
   "version": "2.7.12"
  }
 },
 "nbformat": 4,
 "nbformat_minor": 2
}
